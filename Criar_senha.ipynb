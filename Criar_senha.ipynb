{
 "cells": [
  {
   "cell_type": "code",
   "execution_count": 1,
   "id": "8d511ea2",
   "metadata": {},
   "outputs": [],
   "source": [
    "import streamlit_authenticator as stauth\n",
    "import pandas as pd"
   ]
  },
  {
   "cell_type": "markdown",
   "id": "c84d25a2",
   "metadata": {},
   "source": [
    "* Mariana | @okr2024M ----> Todas\n",
    "* Ricardo Oliveira | @okr2024R ----> Todas\n",
    "* Janice | @okr2024J ----> Apenas Diretoria DAF\n",
    "* Miro | @okr2024Miro ----> Apenas Diretoria DDIAT\n",
    "* Maria Henne | @okr2024Alice ----> Apenas Diretoria DES\n",
    "* Heleno Maciel | @okr2024HM ----> Diretorias DPBU E DDIAT\n",
    "* Antonio Nahas | @okr2024AN ----> Todas\n",
    "* Henrique | @okr2024HN ----> Todas\n",
    "* Jadson | @okr2024JR ----> DCOM\n",
    "* Sergio Oliveira | @okr2024SO ----> Apenas DCOM\n",
    "* Marcelo Andrade | @okr2024MAD ----> Apenas Diretoria DES\n",
    "* Marco Antonio | @okr2024ML ----> Apenas Diretoria DAF\n",
    "* Jacqueline | @okr2024JACQ ----> Apenas Diretoria Regularização Fundiária e Compra Assistida - DRF"
   ]
  },
  {
   "cell_type": "code",
   "execution_count": 2,
   "id": "02037c22",
   "metadata": {},
   "outputs": [],
   "source": [
    "dic_acessos = {\n",
    "                'NMC_adm':['@Geo2024'],\n",
    "\n",
    "            }\n"
   ]
  },
  {
   "cell_type": "code",
   "execution_count": 3,
   "id": "5667c77b",
   "metadata": {},
   "outputs": [],
   "source": [
    "for k, val in dic_acessos.items():\n",
    "    aux = val.copy()\n",
    "    hashed_passwords = stauth.Hasher(val).generate()\n",
    "    aux.append(hashed_passwords[0])\n",
    "    dic_acessos[k] = aux"
   ]
  },
  {
   "cell_type": "code",
   "execution_count": 4,
   "id": "a7647c72",
   "metadata": {},
   "outputs": [
    {
     "data": {
      "text/html": [
       "<div>\n",
       "<style scoped>\n",
       "    .dataframe tbody tr th:only-of-type {\n",
       "        vertical-align: middle;\n",
       "    }\n",
       "\n",
       "    .dataframe tbody tr th {\n",
       "        vertical-align: top;\n",
       "    }\n",
       "\n",
       "    .dataframe thead th {\n",
       "        text-align: right;\n",
       "    }\n",
       "</style>\n",
       "<table border=\"1\" class=\"dataframe\">\n",
       "  <thead>\n",
       "    <tr style=\"text-align: right;\">\n",
       "      <th></th>\n",
       "      <th>Senha</th>\n",
       "      <th>Senha_hashed</th>\n",
       "    </tr>\n",
       "  </thead>\n",
       "  <tbody>\n",
       "    <tr>\n",
       "      <th>NMC_adm</th>\n",
       "      <td>@Geo2024</td>\n",
       "      <td>$2b$12$D7Ceyj/dkUFGc4H/xXPDsOnK8P9/WpQnNN7merg...</td>\n",
       "    </tr>\n",
       "  </tbody>\n",
       "</table>\n",
       "</div>"
      ],
      "text/plain": [
       "            Senha                                       Senha_hashed\n",
       "NMC_adm  @Geo2024  $2b$12$D7Ceyj/dkUFGc4H/xXPDsOnK8P9/WpQnNN7merg..."
      ]
     },
     "execution_count": 4,
     "metadata": {},
     "output_type": "execute_result"
    }
   ],
   "source": [
    "pd.DataFrame(dic_acessos, index=['Senha', 'Senha_hashed']).T"
   ]
  },
  {
   "cell_type": "code",
   "execution_count": 5,
   "id": "44e14728",
   "metadata": {},
   "outputs": [
    {
     "data": {
      "text/plain": [
       "{'NMC_adm': ['@Geo2024',\n",
       "  '$2b$12$D7Ceyj/dkUFGc4H/xXPDsOnK8P9/WpQnNN7mergFYDCwZabrBO2Xy']}"
      ]
     },
     "execution_count": 5,
     "metadata": {},
     "output_type": "execute_result"
    }
   ],
   "source": [
    "dic_acessos"
   ]
  },
  {
   "cell_type": "code",
   "execution_count": null,
   "id": "d4ecad6c",
   "metadata": {},
   "outputs": [],
   "source": []
  }
 ],
 "metadata": {
  "kernelspec": {
   "display_name": "geo",
   "language": "python",
   "name": "python3"
  },
  "language_info": {
   "codemirror_mode": {
    "name": "ipython",
    "version": 3
   },
   "file_extension": ".py",
   "mimetype": "text/x-python",
   "name": "python",
   "nbconvert_exporter": "python",
   "pygments_lexer": "ipython3",
   "version": "3.12.4"
  }
 },
 "nbformat": 4,
 "nbformat_minor": 5
}
