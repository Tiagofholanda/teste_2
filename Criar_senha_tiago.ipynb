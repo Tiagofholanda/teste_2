{
 "cells": [
  {
   "cell_type": "code",
   "execution_count": 1,
   "metadata": {},
   "outputs": [],
   "source": [
    "import streamlit_authenticator as stauth\n",
    "import pandas as pd\n"
   ]
  },
  {
   "cell_type": "markdown",
   "metadata": {},
   "source": [
    "Mariana | @okr2024M ----> Todas \n"
   ]
  },
  {
   "cell_type": "code",
   "execution_count": 4,
   "metadata": {},
   "outputs": [],
   "source": [
    "dic_acessos = {\n",
    "                # 'MARIANA' ; ['@okr2024M'],\n",
    "                #\n",
    "                #\n",
    "                #\n",
    "                #\n",
    "                #\n",
    "                'ADILSON.FERNANDES' : ['@okr2024AF'],\n",
    "                'CARLOS.LONGINO': ['@okr2024CL']\n",
    "}"
   ]
  },
  {
   "cell_type": "code",
   "execution_count": 5,
   "metadata": {},
   "outputs": [],
   "source": [
    "for k, val in dic_acessos.items():\n",
    "    aux =val.copy()\n",
    "    hashed_passwords = stauth.Hasher(val).generate()\n",
    "    aux.append(hashed_passwords[0])\n",
    "    dic_acessos[k] = aux\n",
    "    \n",
    "\n"
   ]
  },
  {
   "cell_type": "code",
   "execution_count": 6,
   "metadata": {},
   "outputs": [
    {
     "data": {
      "text/html": [
       "<div>\n",
       "<style scoped>\n",
       "    .dataframe tbody tr th:only-of-type {\n",
       "        vertical-align: middle;\n",
       "    }\n",
       "\n",
       "    .dataframe tbody tr th {\n",
       "        vertical-align: top;\n",
       "    }\n",
       "\n",
       "    .dataframe thead th {\n",
       "        text-align: right;\n",
       "    }\n",
       "</style>\n",
       "<table border=\"1\" class=\"dataframe\">\n",
       "  <thead>\n",
       "    <tr style=\"text-align: right;\">\n",
       "      <th></th>\n",
       "      <th>Senha</th>\n",
       "      <th>Senha_hashed</th>\n",
       "    </tr>\n",
       "  </thead>\n",
       "  <tbody>\n",
       "    <tr>\n",
       "      <th>ADILSON.FERNANDES</th>\n",
       "      <td>@okr2024AF</td>\n",
       "      <td>$2b$12$zyabWHz9rjb4douZkW2Jr.zEpMv4m9u8RYFj2m....</td>\n",
       "    </tr>\n",
       "    <tr>\n",
       "      <th>CARLOS.LONGINO</th>\n",
       "      <td>@okr2024CL</td>\n",
       "      <td>$2b$12$Sg7wpF7K/zSjrUtUWiw9w.D1pp/ozD5oMebzw4H...</td>\n",
       "    </tr>\n",
       "  </tbody>\n",
       "</table>\n",
       "</div>"
      ],
      "text/plain": [
       "                        Senha  \\\n",
       "ADILSON.FERNANDES  @okr2024AF   \n",
       "CARLOS.LONGINO     @okr2024CL   \n",
       "\n",
       "                                                        Senha_hashed  \n",
       "ADILSON.FERNANDES  $2b$12$zyabWHz9rjb4douZkW2Jr.zEpMv4m9u8RYFj2m....  \n",
       "CARLOS.LONGINO     $2b$12$Sg7wpF7K/zSjrUtUWiw9w.D1pp/ozD5oMebzw4H...  "
      ]
     },
     "execution_count": 6,
     "metadata": {},
     "output_type": "execute_result"
    }
   ],
   "source": [
    "pd.DataFrame(dic_acessos, index=['Senha', 'Senha_hashed']).T"
   ]
  },
  {
   "cell_type": "code",
   "execution_count": 7,
   "metadata": {},
   "outputs": [
    {
     "data": {
      "text/plain": [
       "{'ADILSON.FERNANDES': ['@okr2024AF',\n",
       "  '$2b$12$zyabWHz9rjb4douZkW2Jr.zEpMv4m9u8RYFj2m.okQMNpWM.e6z9a'],\n",
       " 'CARLOS.LONGINO': ['@okr2024CL',\n",
       "  '$2b$12$Sg7wpF7K/zSjrUtUWiw9w.D1pp/ozD5oMebzw4HiNu73F6e7kU0Oq']}"
      ]
     },
     "execution_count": 7,
     "metadata": {},
     "output_type": "execute_result"
    }
   ],
   "source": [
    "dic_acessos"
   ]
  }
 ],
 "metadata": {
  "kernelspec": {
   "display_name": "venv",
   "language": "python",
   "name": "python3"
  },
  "language_info": {
   "codemirror_mode": {
    "name": "ipython",
    "version": 3
   },
   "file_extension": ".py",
   "mimetype": "text/x-python",
   "name": "python",
   "nbconvert_exporter": "python",
   "pygments_lexer": "ipython3",
   "version": "3.12.4"
  }
 },
 "nbformat": 4,
 "nbformat_minor": 2
}
